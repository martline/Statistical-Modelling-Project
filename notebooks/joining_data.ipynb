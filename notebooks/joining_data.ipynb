{
 "cells": [
  {
   "cell_type": "markdown",
   "metadata": {},
   "source": [
    "Join the data from Part 1 with the data from Part 2 to create a new dataframe."
   ]
  },
  {
   "cell_type": "code",
   "execution_count": null,
   "metadata": {},
   "outputs": [],
   "source": [
    "import pandas as pd\n",
    "\n",
    "station_data = {\n",
    "    'Station Name': station_names,\n",
    "    'Number of Bikes': num_bikes,\n",
    "    'Latitude': latitudes,\n",
    "    'Longitude': longitudes,\n",
    "}\n",
    "\n",
    "extracted_data = {\n",
    "            \"Name\": name,\n",
    "            \"Distance\": distance,\n",
    "            \"Latitude\": latitude,\n",
    "            \"Longitude\": longitude,\n",
    "            \"Rating\": rating,\n",
    "            \"Region\": region,\n",
    "            \"Country\": country,\n",
    "        }\n",
    "\n",
    "df_bikes = pd.DataFrame(station_data)\n",
    "df_restaurants = pd.DataFrame(etracted_data)\n",
    "\n",
    "df_merged = pd.merge(df_bikes, df_restaurants, on=['Latitude', 'Longitude'], how='inner')"
   ]
  },
  {
   "cell_type": "markdown",
   "metadata": {},
   "source": [
    "Provide a visualization that you used as part of your EDA process. Explain the initial pattern or relationship you discoved through this visualization. "
   ]
  },
  {
   "cell_type": "code",
   "execution_count": null,
   "metadata": {},
   "outputs": [],
   "source": [
    "import pandas as pd\n",
    "import matplotlib.pyplot as plt\n",
    "\n",
    "data = {\n",
    "    'Station Name': station_names,\n",
    "    'Latitude': latitudes,\n",
    "    'Longitude': longitudes,\n",
    "    'Number of Bikes': num_bikes\n",
    "}\n",
    "\n",
    "df_combined = pd.DataFrame(data)\n",
    "\n",
    "column_to_plot = 'Number of Bikes'\n",
    "\n",
    "plt.hist(df_combined[column_to_plot], bins=15, color='skyblue', edgecolor='black')\n",
    "plt.xlabel(column_to_plot)\n",
    "plt.ylabel('')\n",
    "plt.title(f'Histogram of {column_to_plot}')\n",
    "plt.show()"
   ]
  },
  {
   "cell_type": "markdown",
   "metadata": {},
   "source": [
    "# Database"
   ]
  },
  {
   "cell_type": "markdown",
   "metadata": {},
   "source": [
    "Put all your results in an SQLite3 database (remember, SQLite stores its databases as files in your local machine - make sure to create your database in your project's data/ directory!)"
   ]
  },
  {
   "cell_type": "code",
   "execution_count": null,
   "metadata": {},
   "outputs": [],
   "source": [
    "import pandas as pd\n",
    "import sqlite3\n",
    "\n",
    "data = {\n",
    "    'Station Name': station_names,\n",
    "    'Latitude': latitudes,\n",
    "    'Longitude': longitudes,\n",
    "    'Number of Bikes': num_bikes,\n",
    "}\n",
    "\n",
    "df_combined = pd.DataFrame(data)\n",
    "\n",
    "conn = sqlite3.connect('results.db')\n",
    "\n",
    "df_combined.to_sql('table_1', conn, if_exists='replace', index=False)\n",
    "\n",
    "\n",
    "conn.commit()\n",
    "conn.close()"
   ]
  },
  {
   "cell_type": "markdown",
   "metadata": {},
   "source": [
    "Look at the data before and after the join to validate your data."
   ]
  },
  {
   "cell_type": "code",
   "execution_count": null,
   "metadata": {},
   "outputs": [],
   "source": [
    "if __name__ == \"__main__\":\n",
    "    # Get and validate Foursquare data\n",
    "    foursquare_data = get_foursquare_data()\n",
    "    if foursquare_data is not None:\n",
    "        df_station = dataframe_foursquare_data(foursquare_data)\n",
    "        print(\"Foursquare Data:\")\n",
    "        print(df_station)\n",
    "        print()\n",
    "\n",
    "    # Get and validate Yelp data\n",
    "    yelp_data = get_yelp_data()\n",
    "    if yelp_data is not None:\n",
    "        df_yelp = dataframe_yelp_data(yelp_data)\n",
    "        print(\"Yelp Data:\")\n",
    "        print(df_yelp)\n",
    "        print()\n",
    "\n",
    "    # Concatenate the DataFrames\n",
    "    if df_station is not None and df_yelp is not None:\n",
    "        df_combined = pd.concat([df_station, df_yelp], ignore_index=True)\n",
    "        print(\"Combined Data:\")\n",
    "        print(df_combined)"
   ]
  }
 ],
 "metadata": {
  "kernelspec": {
   "display_name": "Python 3 (ipykernel)",
   "language": "python",
   "name": "python3"
  },
  "language_info": {
   "codemirror_mode": {
    "name": "ipython",
    "version": 3
   },
   "file_extension": ".py",
   "mimetype": "text/x-python",
   "name": "python",
   "nbconvert_exporter": "python",
   "pygments_lexer": "ipython3",
   "version": "3.11.3"
  }
 },
 "nbformat": 4,
 "nbformat_minor": 4
}
