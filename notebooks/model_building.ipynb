{
 "cells": [
  {
   "cell_type": "markdown",
   "metadata": {},
   "source": [
    "Build a regression model."
   ]
  },
  {
   "cell_type": "code",
   "execution_count": 1,
   "metadata": {},
   "outputs": [],
   "source": [
    "import pandas as pd\n",
    "import sqlite3\n",
    "from sqlite3 import Error\n",
    "import statsmodels.api as sm"
   ]
  },
  {
   "cell_type": "code",
   "execution_count": 2,
   "metadata": {},
   "outputs": [],
   "source": [
    "def create_connection(path):\n",
    "    connection = None\n",
    "    try:\n",
    "        connection = sqlite3.connect(path)\n",
    "        print(\"Connection to SQLite DB successful\")\n",
    "    except Error as e:\n",
    "        print(f\"The error '{e}' occurred\")\n",
    "\n",
    "    return connection"
   ]
  },
  {
   "cell_type": "code",
   "execution_count": 3,
   "metadata": {},
   "outputs": [
    {
     "name": "stdout",
     "output_type": "stream",
     "text": [
      "Connection to SQLite DB successful\n"
     ]
    }
   ],
   "source": [
    "connection = create_connection(\"sm_app.sqlite\")"
   ]
  },
  {
   "cell_type": "code",
   "execution_count": 4,
   "metadata": {},
   "outputs": [
    {
     "data": {
      "text/html": [
       "<div>\n",
       "<style scoped>\n",
       "    .dataframe tbody tr th:only-of-type {\n",
       "        vertical-align: middle;\n",
       "    }\n",
       "\n",
       "    .dataframe tbody tr th {\n",
       "        vertical-align: top;\n",
       "    }\n",
       "\n",
       "    .dataframe thead th {\n",
       "        text-align: right;\n",
       "    }\n",
       "</style>\n",
       "<table border=\"1\" class=\"dataframe\">\n",
       "  <thead>\n",
       "    <tr style=\"text-align: right;\">\n",
       "      <th></th>\n",
       "      <th>index</th>\n",
       "      <th>station name</th>\n",
       "      <th>name</th>\n",
       "      <th>address</th>\n",
       "      <th>category</th>\n",
       "      <th>rating</th>\n",
       "      <th>review count</th>\n",
       "      <th>empty slots</th>\n",
       "      <th>available bikes</th>\n",
       "      <th>latitude</th>\n",
       "      <th>longitude</th>\n",
       "    </tr>\n",
       "  </thead>\n",
       "  <tbody>\n",
       "    <tr>\n",
       "      <th>0</th>\n",
       "      <td>0</td>\n",
       "      <td>01. Curtatone</td>\n",
       "      <td>Pizzeria Alle Scalette</td>\n",
       "      <td>Viale Curtatone 18</td>\n",
       "      <td>Pizzeria</td>\n",
       "      <td>4.235426</td>\n",
       "      <td>20.744395</td>\n",
       "      <td>16</td>\n",
       "      <td>0</td>\n",
       "      <td>43.32160</td>\n",
       "      <td>11.327948</td>\n",
       "    </tr>\n",
       "    <tr>\n",
       "      <th>1</th>\n",
       "      <td>1</td>\n",
       "      <td>01. Curtatone</td>\n",
       "      <td>Piazza Giacomo Matteotti</td>\n",
       "      <td>Piazza Giacomo Matteotti</td>\n",
       "      <td>Plaza</td>\n",
       "      <td>4.235426</td>\n",
       "      <td>20.744395</td>\n",
       "      <td>16</td>\n",
       "      <td>0</td>\n",
       "      <td>43.32160</td>\n",
       "      <td>11.327948</td>\n",
       "    </tr>\n",
       "    <tr>\n",
       "      <th>2</th>\n",
       "      <td>2</td>\n",
       "      <td>01. Curtatone</td>\n",
       "      <td>Basilica di San Domenico</td>\n",
       "      <td>Piazza San Domenico</td>\n",
       "      <td>Church</td>\n",
       "      <td>4.235426</td>\n",
       "      <td>20.744395</td>\n",
       "      <td>16</td>\n",
       "      <td>0</td>\n",
       "      <td>43.32160</td>\n",
       "      <td>11.327948</td>\n",
       "    </tr>\n",
       "    <tr>\n",
       "      <th>3</th>\n",
       "      <td>3</td>\n",
       "      <td>01. Curtatone</td>\n",
       "      <td>Caffè La Piazzetta</td>\n",
       "      <td>Via Montanini 52</td>\n",
       "      <td>Bar, Café, Italian Restaurant</td>\n",
       "      <td>4.235426</td>\n",
       "      <td>20.744395</td>\n",
       "      <td>16</td>\n",
       "      <td>0</td>\n",
       "      <td>43.32160</td>\n",
       "      <td>11.327948</td>\n",
       "    </tr>\n",
       "    <tr>\n",
       "      <th>4</th>\n",
       "      <td>4</td>\n",
       "      <td>01. Curtatone</td>\n",
       "      <td>Consorzio Agrario di Siena</td>\n",
       "      <td>Via Pianigiani Giuseppe 9</td>\n",
       "      <td>Grocery Store</td>\n",
       "      <td>4.235426</td>\n",
       "      <td>20.744395</td>\n",
       "      <td>16</td>\n",
       "      <td>0</td>\n",
       "      <td>43.32160</td>\n",
       "      <td>11.327948</td>\n",
       "    </tr>\n",
       "    <tr>\n",
       "      <th>...</th>\n",
       "      <td>...</td>\n",
       "      <td>...</td>\n",
       "      <td>...</td>\n",
       "      <td>...</td>\n",
       "      <td>...</td>\n",
       "      <td>...</td>\n",
       "      <td>...</td>\n",
       "      <td>...</td>\n",
       "      <td>...</td>\n",
       "      <td>...</td>\n",
       "      <td>...</td>\n",
       "    </tr>\n",
       "    <tr>\n",
       "      <th>408</th>\n",
       "      <td>408</td>\n",
       "      <td>19. Petriccio</td>\n",
       "      <td>la veranda</td>\n",
       "      <td>Piazza Calabria</td>\n",
       "      <td>Italian</td>\n",
       "      <td>4.500000</td>\n",
       "      <td>6.000000</td>\n",
       "      <td>9</td>\n",
       "      <td>1</td>\n",
       "      <td>43.33464</td>\n",
       "      <td>11.304803</td>\n",
       "    </tr>\n",
       "    <tr>\n",
       "      <th>409</th>\n",
       "      <td>409</td>\n",
       "      <td>19. Petriccio</td>\n",
       "      <td>Mc Donald's</td>\n",
       "      <td>Via Fiorentina 124</td>\n",
       "      <td>Fast Food, Burgers</td>\n",
       "      <td>2.000000</td>\n",
       "      <td>1.000000</td>\n",
       "      <td>9</td>\n",
       "      <td>1</td>\n",
       "      <td>43.33464</td>\n",
       "      <td>11.304803</td>\n",
       "    </tr>\n",
       "    <tr>\n",
       "      <th>410</th>\n",
       "      <td>410</td>\n",
       "      <td>19. Petriccio</td>\n",
       "      <td>Fontebecci</td>\n",
       "      <td>Via Fiorentina 133</td>\n",
       "      <td>Pizza, Italian</td>\n",
       "      <td>2.000000</td>\n",
       "      <td>2.000000</td>\n",
       "      <td>9</td>\n",
       "      <td>1</td>\n",
       "      <td>43.33464</td>\n",
       "      <td>11.304803</td>\n",
       "    </tr>\n",
       "    <tr>\n",
       "      <th>411</th>\n",
       "      <td>411</td>\n",
       "      <td>19. Petriccio</td>\n",
       "      <td>Bar Cecco</td>\n",
       "      <td>Viale Camillo Benso Conte Di Cavour</td>\n",
       "      <td>Cafes, Fast Food, Pizza, Coffee &amp; Tea</td>\n",
       "      <td>3.000000</td>\n",
       "      <td>3.000000</td>\n",
       "      <td>9</td>\n",
       "      <td>1</td>\n",
       "      <td>43.33464</td>\n",
       "      <td>11.304803</td>\n",
       "    </tr>\n",
       "    <tr>\n",
       "      <th>412</th>\n",
       "      <td>412</td>\n",
       "      <td>19. Petriccio</td>\n",
       "      <td>Skile' Music Bar</td>\n",
       "      <td>Piazza Calabria 18</td>\n",
       "      <td>Cafes</td>\n",
       "      <td>3.000000</td>\n",
       "      <td>1.000000</td>\n",
       "      <td>9</td>\n",
       "      <td>1</td>\n",
       "      <td>43.33464</td>\n",
       "      <td>11.304803</td>\n",
       "    </tr>\n",
       "  </tbody>\n",
       "</table>\n",
       "<p>413 rows × 11 columns</p>\n",
       "</div>"
      ],
      "text/plain": [
       "     index   station name                        name  \\\n",
       "0        0  01. Curtatone      Pizzeria Alle Scalette   \n",
       "1        1  01. Curtatone    Piazza Giacomo Matteotti   \n",
       "2        2  01. Curtatone    Basilica di San Domenico   \n",
       "3        3  01. Curtatone          Caffè La Piazzetta   \n",
       "4        4  01. Curtatone  Consorzio Agrario di Siena   \n",
       "..     ...            ...                         ...   \n",
       "408    408  19. Petriccio                  la veranda   \n",
       "409    409  19. Petriccio                 Mc Donald's   \n",
       "410    410  19. Petriccio                  Fontebecci   \n",
       "411    411  19. Petriccio                   Bar Cecco   \n",
       "412    412  19. Petriccio            Skile' Music Bar   \n",
       "\n",
       "                                 address  \\\n",
       "0                     Viale Curtatone 18   \n",
       "1               Piazza Giacomo Matteotti   \n",
       "2                    Piazza San Domenico   \n",
       "3                       Via Montanini 52   \n",
       "4              Via Pianigiani Giuseppe 9   \n",
       "..                                   ...   \n",
       "408                      Piazza Calabria   \n",
       "409                   Via Fiorentina 124   \n",
       "410                   Via Fiorentina 133   \n",
       "411  Viale Camillo Benso Conte Di Cavour   \n",
       "412                   Piazza Calabria 18   \n",
       "\n",
       "                                  category    rating  review count  \\\n",
       "0                                 Pizzeria  4.235426     20.744395   \n",
       "1                                    Plaza  4.235426     20.744395   \n",
       "2                                   Church  4.235426     20.744395   \n",
       "3            Bar, Café, Italian Restaurant  4.235426     20.744395   \n",
       "4                            Grocery Store  4.235426     20.744395   \n",
       "..                                     ...       ...           ...   \n",
       "408                                Italian  4.500000      6.000000   \n",
       "409                     Fast Food, Burgers  2.000000      1.000000   \n",
       "410                         Pizza, Italian  2.000000      2.000000   \n",
       "411  Cafes, Fast Food, Pizza, Coffee & Tea  3.000000      3.000000   \n",
       "412                                  Cafes  3.000000      1.000000   \n",
       "\n",
       "     empty slots  available bikes  latitude  longitude  \n",
       "0             16                0  43.32160  11.327948  \n",
       "1             16                0  43.32160  11.327948  \n",
       "2             16                0  43.32160  11.327948  \n",
       "3             16                0  43.32160  11.327948  \n",
       "4             16                0  43.32160  11.327948  \n",
       "..           ...              ...       ...        ...  \n",
       "408            9                1  43.33464  11.304803  \n",
       "409            9                1  43.33464  11.304803  \n",
       "410            9                1  43.33464  11.304803  \n",
       "411            9                1  43.33464  11.304803  \n",
       "412            9                1  43.33464  11.304803  \n",
       "\n",
       "[413 rows x 11 columns]"
      ]
     },
     "execution_count": 4,
     "metadata": {},
     "output_type": "execute_result"
    }
   ],
   "source": [
    "df = pd.read_sql('SELECT * FROM pois', connection)\n",
    "values = {'rating': df['rating'].mean(), 'review count': df['review count'].mean()}\n",
    "df = df.fillna(value=values)\n",
    "df"
   ]
  },
  {
   "cell_type": "code",
   "execution_count": 5,
   "metadata": {},
   "outputs": [],
   "source": [
    "X = df['available bikes']\n",
    "y = df['rating']\n",
    "\n",
    "X = sm.add_constant(X)\n",
    "lin_reg = sm.OLS(y,X)"
   ]
  },
  {
   "cell_type": "markdown",
   "metadata": {},
   "source": [
    "Provide model output and an interpretation of the results. "
   ]
  },
  {
   "cell_type": "code",
   "execution_count": 6,
   "metadata": {},
   "outputs": [
    {
     "name": "stdout",
     "output_type": "stream",
     "text": [
      "                            OLS Regression Results                            \n",
      "==============================================================================\n",
      "Dep. Variable:                 rating   R-squared:                       0.000\n",
      "Model:                            OLS   Adj. R-squared:                 -0.002\n",
      "Method:                 Least Squares   F-statistic:                    0.1582\n",
      "Date:                Mon, 14 Aug 2023   Prob (F-statistic):              0.691\n",
      "Time:                        20:35:51   Log-Likelihood:                -350.23\n",
      "No. Observations:                 413   AIC:                             704.5\n",
      "Df Residuals:                     411   BIC:                             712.5\n",
      "Df Model:                           1                                         \n",
      "Covariance Type:            nonrobust                                         \n",
      "===================================================================================\n",
      "                      coef    std err          t      P>|t|      [0.025      0.975]\n",
      "-----------------------------------------------------------------------------------\n",
      "const               4.2431      0.034    125.040      0.000       4.176       4.310\n",
      "available bikes    -0.0064      0.016     -0.398      0.691      -0.038       0.025\n",
      "==============================================================================\n",
      "Omnibus:                      272.491   Durbin-Watson:                   1.675\n",
      "Prob(Omnibus):                  0.000   Jarque-Bera (JB):             2723.766\n",
      "Skew:                          -2.759   Prob(JB):                         0.00\n",
      "Kurtosis:                      14.306   Cond. No.                         2.78\n",
      "==============================================================================\n",
      "\n",
      "Notes:\n",
      "[1] Standard Errors assume that the covariance matrix of the errors is correctly specified.\n"
     ]
    }
   ],
   "source": [
    "model = lin_reg.fit()\n",
    "print_model = model.summary()\n",
    "print(print_model)"
   ]
  },
  {
   "cell_type": "code",
   "execution_count": null,
   "metadata": {},
   "outputs": [],
   "source": [
    "# R-squared value is 0.000, which represents a model that does not explain any of the variation \n",
    "# in the response variable around its mean"
   ]
  },
  {
   "cell_type": "code",
   "execution_count": 7,
   "metadata": {},
   "outputs": [],
   "source": [
    "X = df['available bikes']\n",
    "y = df['review count']\n",
    "\n",
    "X = sm.add_constant(X)\n",
    "lin_reg = sm.OLS(y,X)"
   ]
  },
  {
   "cell_type": "code",
   "execution_count": 8,
   "metadata": {
    "scrolled": true
   },
   "outputs": [
    {
     "name": "stdout",
     "output_type": "stream",
     "text": [
      "                            OLS Regression Results                            \n",
      "==============================================================================\n",
      "Dep. Variable:           review count   R-squared:                       0.007\n",
      "Model:                            OLS   Adj. R-squared:                  0.004\n",
      "Method:                 Least Squares   F-statistic:                     2.804\n",
      "Date:                Mon, 14 Aug 2023   Prob (F-statistic):             0.0948\n",
      "Time:                        20:37:21   Log-Likelihood:                -1822.4\n",
      "No. Observations:                 413   AIC:                             3649.\n",
      "Df Residuals:                     411   BIC:                             3657.\n",
      "Df Model:                           1                                         \n",
      "Covariance Type:            nonrobust                                         \n",
      "===================================================================================\n",
      "                      coef    std err          t      P>|t|      [0.025      0.975]\n",
      "-----------------------------------------------------------------------------------\n",
      "const              21.8897      1.199     18.260      0.000      19.533      24.246\n",
      "available bikes    -0.9537      0.569     -1.675      0.095      -2.073       0.166\n",
      "==============================================================================\n",
      "Omnibus:                      435.886   Durbin-Watson:                   1.698\n",
      "Prob(Omnibus):                  0.000   Jarque-Bera (JB):            16730.736\n",
      "Skew:                           4.773   Prob(JB):                         0.00\n",
      "Kurtosis:                      32.683   Cond. No.                         2.78\n",
      "==============================================================================\n",
      "\n",
      "Notes:\n",
      "[1] Standard Errors assume that the covariance matrix of the errors is correctly specified.\n"
     ]
    }
   ],
   "source": [
    "model = lin_reg.fit()\n",
    "print_model = model.summary()\n",
    "print(print_model)"
   ]
  },
  {
   "cell_type": "code",
   "execution_count": null,
   "metadata": {},
   "outputs": [],
   "source": [
    "# R-squared value is 0.007, which means predictive ability is practically zero, and we can't use it to forecast\n",
    "# P-value is 0.095 which means review count doesn't have impact on the number of bikes"
   ]
  },
  {
   "cell_type": "markdown",
   "metadata": {},
   "source": [
    "# Stretch"
   ]
  },
  {
   "cell_type": "markdown",
   "metadata": {},
   "source": [
    "How can you turn the regression model into a classification model?"
   ]
  },
  {
   "cell_type": "code",
   "execution_count": null,
   "metadata": {},
   "outputs": [],
   "source": []
  }
 ],
 "metadata": {
  "kernelspec": {
   "display_name": "Python 3 (ipykernel)",
   "language": "python",
   "name": "python3"
  },
  "language_info": {
   "codemirror_mode": {
    "name": "ipython",
    "version": 3
   },
   "file_extension": ".py",
   "mimetype": "text/x-python",
   "name": "python",
   "nbconvert_exporter": "python",
   "pygments_lexer": "ipython3",
   "version": "3.11.3"
  }
 },
 "nbformat": 4,
 "nbformat_minor": 4
}
